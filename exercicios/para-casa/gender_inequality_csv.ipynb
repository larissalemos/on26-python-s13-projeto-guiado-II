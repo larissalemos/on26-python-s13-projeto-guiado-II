{
 "cells": [
  {
   "cell_type": "markdown",
   "metadata": {},
   "source": [
    "# ⚖️ Gender Inequality Index\n",
    "\n",
    "**Português:**\n",
    "O Índice de Desigualdade de Gênero (GII) mede tal desigualdade considerando disparidades em saúde, educação e oportunidades econômicas. Desenvolvido pelo Programa de Desenvolvimento das Nações Unidas (UNDP), o GII é uma medida de desigualdade de gênero que analisa indicadores de saúde, empoderamento e participação no mercado de trabalho.\n",
    "Dados de 2021.\n",
    "\n",
    "**English:**\n",
    "The Gender Inequality Index (GII) dataset provides a comprehensive measure of gender inequality across countries, capturing gender disparities in health, education, and economic opportunities. Developed by the United Nations Development Programme (UNDP), the GII measures gender inequality by analyzing health, empowerment, and labor market participation indicators.\n",
    "\n",
    "This dataset includes GII scores, as well as component scores for each indicator, for over 190 countries, in 2021.\n",
    "\n",
    "Columns: \n",
    "- Country | País\n",
    "- Human_development (Category: Low, Medium, High, Very High) | Desenvolvimento Humano: Baixo, Médio, Alto, Muito Alto\n",
    "- GII (Gender Inequality Index) | Índice de Desigualdade de Gênero\n",
    "- Rank | Classificação\n",
    "- Maternal_mortality (Maternal mortality ratio (deaths per 100,000 live births)) | Mortalidade maternal (Mortes por 100.000 nascimentos)\n",
    "- Adolescent_birth_rate (Adolescent birth rate (births per 1,000 women ages 15–19)) | Maternidade de adolescentes (Nascimentos por 100.000 mulheres entre 15 e 19 anos)\n",
    "- Seats_parliament (Share of seats in parliament (% held by women)) | Cadeiras no Parlamento (% ocupadas por mulheres)\n",
    "- F_secondary_educ (Females with at least some secondary education (% ages 25 and older)) | Mulheres com pelo menos educação secundária (% com 25 anos ou mais)\n",
    "- M_secondary_educ (Males with at least some secondary education (% ages 25 and older)) | Homens com pelo menos educação secundária (% com 25 anos ou mais)\n",
    "- F_Labour_force (Female - Labour force participation rate (% ages 15 and older)) | Força de trabalho feminina (% com 15 anos ou mais)\n",
    "- M_Labour_force (Male - Labour force participation rate (% ages 15 and older)) | Força de trabalho masculina (% com 15 anos ou mais)"
   ]
  },
  {
   "cell_type": "code",
   "execution_count": null,
   "metadata": {},
   "outputs": [],
   "source": [
    "import pandas as pd\n",
    "import matplotlib.pyplot as plt\n",
    "import sqlite3\n",
    "import csv\n",
    "import plotly.express as px\n",
    "import pandas as pd\n",
    "import seaborn as sns"
   ]
  },
  {
   "cell_type": "code",
   "execution_count": null,
   "metadata": {},
   "outputs": [],
   "source": [
    "#importa dados do arquivo csv\n",
    "df = pd.read_csv(\"Gender_Inequality_Index.csv\", sep=\",\" , encoding= 'UTF-8')\n",
    "df.info()"
   ]
  },
  {
   "cell_type": "code",
   "execution_count": null,
   "metadata": {},
   "outputs": [],
   "source": [
    "df.describe().T"
   ]
  },
  {
   "cell_type": "code",
   "execution_count": null,
   "metadata": {},
   "outputs": [],
   "source": [
    "# df_processed = df.copy()\n",
    "# df_processed.dropna(subset=[df[\"Human_development\"]])\n",
    "# df_processed"
   ]
  },
  {
   "cell_type": "code",
   "execution_count": null,
   "metadata": {},
   "outputs": [],
   "source": [
    "df.sort_values(by=\"Rank\", inplace=True)\n",
    "top_5 = df.head(5)"
   ]
  },
  {
   "cell_type": "code",
   "execution_count": null,
   "metadata": {},
   "outputs": [],
   "source": [
    "fig, ax = plt.subplots()\n",
    "sns.barplot(x=df[\"GII\"], y=top_5[\"Country\"], color=\"purple\", ax=ax)\n",
    "\n",
    "ax.set_title(\"Top 5 países com menor desigualdade de gênero\")\n",
    "ax.set_xlabel(\"Índice de Desigualdade de Gênero\")"
   ]
  },
  {
   "cell_type": "code",
   "execution_count": null,
   "metadata": {},
   "outputs": [],
   "source": [
    "plt.figure(figsize=(10, 6))\n",
    "plt.bar(top_5[\"Country\"], top_5[\"GII\"], color=\"purple\")\n",
    "plt.xlabel(\"Country\")\n",
    "plt.ylabel(\"GII\")\n",
    "plt.title(\"Top 5 countries with best GII (Gender Inequality Index)\")\n",
    "plt.xticks(rotation=45, ha='right')"
   ]
  },
  {
   "cell_type": "code",
   "execution_count": null,
   "metadata": {},
   "outputs": [],
   "source": [
    "fig = px.choropleth(df, \n",
    "                    locations='Country', \n",
    "                    locationmode='country names',\n",
    "                    color='GII', \n",
    "                    hover_name='Country',\n",
    "                    projection='natural earth', \n",
    "                    title='GII per country')\n",
    "fig.show()"
   ]
  },
  {
   "cell_type": "code",
   "execution_count": null,
   "metadata": {},
   "outputs": [],
   "source": [
    "# transformando objeto Human_development em string\n",
    "human_development_strings = df['Human_development'].apply(lambda x: str(x))"
   ]
  },
  {
   "cell_type": "code",
   "execution_count": null,
   "metadata": {},
   "outputs": [],
   "source": [
    "color = [\"orange\", \"red\", \"green\"]\n",
    "fig, ax = plt.subplots()\n",
    "ax.bar(human_development_strings, df[\"GII\"], color=color)\n",
    "ax.set_title(\"Índice de Desigualdade de Gênero por IDH\")\n",
    "ax.set_xlabel(\"IDH\")\n",
    "ax.set_ylabel(\"Índice de Desigualdade de Gênero\")\n",
    "\n",
    "plt.show()"
   ]
  },
  {
   "cell_type": "code",
   "execution_count": null,
   "metadata": {},
   "outputs": [],
   "source": [
    "fig, ax = plt.subplots()\n",
    "sns.regplot(x=df[\"Maternal_mortality\"], y=df[\"GII\"], color=\"purple\", ax=ax)\n",
    "\n",
    "ax.set_title(\"Correlação entre desigualdade de gênero e mortalidade de mães durante o parto\")\n",
    "ax.set_xlabel(\"Mortalidade materna (Mortes por 100.000 nascimentos)\")\n",
    "ax.set_ylabel(\"Índice de Desigualdade de Gênero\")"
   ]
  },
  {
   "cell_type": "code",
   "execution_count": null,
   "metadata": {},
   "outputs": [],
   "source": [
    "fig, ax = plt.subplots()\n",
    "sns.regplot(x=df[\"Adolescent_birth_rate\"], y=df[\"GII\"], color=\"purple\", ax=ax)\n",
    "\n",
    "ax.set_title(\"Correlação entre desigualdade de gênero e gravidez na adolescência\")\n",
    "ax.set_xlabel(\"Gravidez na adolescência (Nascimentos por 100.000 mulheres entre 15 e 19 anos)\")\n",
    "ax.set_ylabel(\"Índice de Desigualdade de Gênero\")"
   ]
  },
  {
   "cell_type": "code",
   "execution_count": null,
   "metadata": {},
   "outputs": [],
   "source": [
    "fig, ax = plt.subplots()\n",
    "sns.regplot(x=df[\"Seats_parliament\"], y=df[\"GII\"], color=\"purple\", ax=ax)\n",
    "\n",
    "ax.set_title(\"Correlação entre desigualdade de gênero e representatividade no parlamento\")\n",
    "ax.set_xlabel(\"Cadeiras no parlamento (Porcentagem ocupadas por mulheres)\")\n",
    "ax.set_ylabel(\"Índice de Desigualdade de Gênero\")"
   ]
  },
  {
   "cell_type": "code",
   "execution_count": null,
   "metadata": {},
   "outputs": [],
   "source": [
    "fig, ax = plt.subplots()\n",
    "sns.regplot(x=df[\"F_secondary_educ\"], y=df[\"GII\"], color=\"purple\", ax=ax)\n",
    "\n",
    "ax.set_title(\"Correlação entre desigualdade de gênero e mulheres que concluem o ensino médio\")\n",
    "ax.set_xlabel(\"Mulheres com pelo menos ensino médio completo (Porcentagem com 25 anos ou mais)\")\n",
    "ax.set_ylabel(\"Índice de Desigualdade de Gênero\")"
   ]
  },
  {
   "cell_type": "code",
   "execution_count": null,
   "metadata": {},
   "outputs": [],
   "source": [
    "fig, ax = plt.subplots()\n",
    "sns.regplot(x=df[\"M_secondary_educ\"], y=df[\"GII\"], color=\"purple\", ax=ax)\n",
    "\n",
    "ax.set_title(\"Correlação entre desigualdade de gênero e homens que concluem o ensino médio\")\n",
    "ax.set_xlabel(\"Homens com pelo menos ensino médio completo (Porcentagem com 25 anos ou mais)\")\n",
    "ax.set_ylabel(\"Índice de Desigualdade de Gênero\")"
   ]
  },
  {
   "cell_type": "code",
   "execution_count": null,
   "metadata": {},
   "outputs": [],
   "source": [
    "fig, ax = plt.subplots()\n",
    "sns.regplot(x=df[\"F_Labour_force\"], y=df[\"GII\"], color=\"purple\", ax=ax)\n",
    "\n",
    "ax.set_title(\"Correlação entre desigualdade de gênero e força de trabalho feminina\")\n",
    "ax.set_xlabel(\"Força de trabalho feminina (Porcentagem com 15 anos ou mais)\")\n",
    "ax.set_ylabel(\"Índice de Desigualdade de Gênero\")"
   ]
  },
  {
   "cell_type": "code",
   "execution_count": null,
   "metadata": {},
   "outputs": [],
   "source": [
    "fig, ax = plt.subplots()\n",
    "sns.regplot(x=df[\"M_Labour_force\"], y=df[\"GII\"], color=\"purple\", ax=ax)\n",
    "\n",
    "ax.set_title(\"Correlação entre desigualdade de gênero e força de trabalho masculina\")\n",
    "ax.set_xlabel(\"Força de trabalho masculina (Porcentagem com 15 anos ou mais)\")\n",
    "ax.set_ylabel(\"Índice de Desigualdade de Gênero\")"
   ]
  }
 ],
 "metadata": {
  "kernelspec": {
   "display_name": "base",
   "language": "python",
   "name": "python3"
  },
  "language_info": {
   "codemirror_mode": {
    "name": "ipython",
    "version": 3
   },
   "file_extension": ".py",
   "mimetype": "text/x-python",
   "name": "python",
   "nbconvert_exporter": "python",
   "pygments_lexer": "ipython3",
   "version": "3.11.5"
  }
 },
 "nbformat": 4,
 "nbformat_minor": 2
}
